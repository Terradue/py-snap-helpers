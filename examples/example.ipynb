{
 "cells": [
  {
   "cell_type": "markdown",
   "metadata": {},
   "source": [
    "### Import py_snap_helpers functions and classes"
   ]
  },
  {
   "cell_type": "code",
   "execution_count": 1,
   "metadata": {},
   "outputs": [],
   "source": [
    "from py_snap_helpers import *\n"
   ]
  },
  {
   "cell_type": "markdown",
   "metadata": {},
   "source": [
    "### Get the human readable information about a SNAP operator"
   ]
  },
  {
   "cell_type": "code",
   "execution_count": 2,
   "metadata": {},
   "outputs": [
    {
     "name": "stdout",
     "output_type": "stream",
     "text": [
      "Operator name: org.esa.s1tbx.calibration.gpf.CalibrationOp\n",
      "Operator alias: Calibration\n",
      "\n",
      "Parameters:\n",
      "\n",
      "sourceBandNames: The list of source bands.\n",
      "Default Value: None\n",
      "\n",
      "Possible values: []\n",
      "\n",
      "auxFile: The auxiliary file\n",
      "Default Value: Latest Auxiliary File\n",
      "\n",
      "Possible values: ['Latest Auxiliary File', 'Product Auxiliary File', 'External Auxiliary File']\n",
      "\n",
      "externalAuxFile: The antenna elevation pattern gain auxiliary data file.\n",
      "Default Value: None\n",
      "\n",
      "Possible values: []\n",
      "\n",
      "outputImageInComplex: Output image in complex\n",
      "Default Value: false\n",
      "\n",
      "Possible values: []\n",
      "\n",
      "outputImageScaleInDb: Output image scale\n",
      "Default Value: false\n",
      "\n",
      "Possible values: []\n",
      "\n",
      "createGammaBand: Create gamma0 virtual band\n",
      "Default Value: false\n",
      "\n",
      "Possible values: []\n",
      "\n",
      "createBetaBand: Create beta0 virtual band\n",
      "Default Value: false\n",
      "\n",
      "Possible values: []\n",
      "\n",
      "selectedPolarisations: The list of polarisations\n",
      "Default Value: None\n",
      "\n",
      "Possible values: []\n",
      "\n",
      "outputSigmaBand: Output sigma0 band\n",
      "Default Value: true\n",
      "\n",
      "Possible values: []\n",
      "\n",
      "outputGammaBand: Output gamma0 band\n",
      "Default Value: false\n",
      "\n",
      "Possible values: []\n",
      "\n",
      "outputBetaBand: Output beta0 band\n",
      "Default Value: false\n",
      "\n",
      "Possible values: []\n",
      "\n"
     ]
    }
   ],
   "source": [
    "operator = 'Calibration'\n",
    "\n",
    "op_help(operator)"
   ]
  },
  {
   "cell_type": "markdown",
   "metadata": {},
   "source": [
    "### Get the operator parameter default values"
   ]
  },
  {
   "cell_type": "code",
   "execution_count": 3,
   "metadata": {},
   "outputs": [],
   "source": [
    "parameters = get_operator_default_parameters(operator)"
   ]
  },
  {
   "cell_type": "code",
   "execution_count": 4,
   "metadata": {},
   "outputs": [
    {
     "data": {
      "text/plain": [
       "{'auxFile': 'Latest Auxiliary File',\n",
       " 'createBetaBand': 'false',\n",
       " 'createGammaBand': 'false',\n",
       " 'externalAuxFile': None,\n",
       " 'outputBetaBand': 'false',\n",
       " 'outputGammaBand': 'false',\n",
       " 'outputImageInComplex': 'false',\n",
       " 'outputImageScaleInDb': 'false',\n",
       " 'outputSigmaBand': 'true',\n",
       " 'selectedPolarisations': None,\n",
       " 'sourceBandNames': None}"
      ]
     },
     "execution_count": 4,
     "metadata": {},
     "output_type": "execute_result"
    }
   ],
   "source": [
    "parameters"
   ]
  },
  {
   "cell_type": "markdown",
   "metadata": {},
   "source": [
    "Update the values:"
   ]
  },
  {
   "cell_type": "code",
   "execution_count": 5,
   "metadata": {},
   "outputs": [],
   "source": [
    "parameters['outputBetaBand'] = 'true'"
   ]
  },
  {
   "cell_type": "code",
   "execution_count": 6,
   "metadata": {},
   "outputs": [
    {
     "data": {
      "text/plain": [
       "{'auxFile': 'Latest Auxiliary File',\n",
       " 'createBetaBand': 'false',\n",
       " 'createGammaBand': 'false',\n",
       " 'externalAuxFile': None,\n",
       " 'outputBetaBand': 'true',\n",
       " 'outputGammaBand': 'false',\n",
       " 'outputImageInComplex': 'false',\n",
       " 'outputImageScaleInDb': 'false',\n",
       " 'outputSigmaBand': 'true',\n",
       " 'selectedPolarisations': None,\n",
       " 'sourceBandNames': None}"
      ]
     },
     "execution_count": 6,
     "metadata": {},
     "output_type": "execute_result"
    }
   ],
   "source": [
    "parameters"
   ]
  },
  {
   "cell_type": "markdown",
   "metadata": {},
   "source": [
    "### Create a simple SNAP Graph"
   ]
  },
  {
   "cell_type": "markdown",
   "metadata": {},
   "source": [
    "Instantiate a Graph:"
   ]
  },
  {
   "cell_type": "code",
   "execution_count": 7,
   "metadata": {},
   "outputs": [],
   "source": [
    "mygraph = GraphProcessor()"
   ]
  },
  {
   "cell_type": "code",
   "execution_count": 8,
   "metadata": {},
   "outputs": [
    {
     "name": "stdout",
     "output_type": "stream",
     "text": [
      "Operator name: org.esa.snap.core.gpf.common.ReadOp\n",
      "Operator alias: Read\n",
      "\n",
      "Parameters:\n",
      "\n",
      "file: The file from which the data product is read.\n",
      "Default Value: None\n",
      "\n",
      "Possible values: []\n",
      "\n",
      "formatName: An (optional) format name.\n",
      "Default Value: None\n",
      "\n",
      "Possible values: []\n",
      "\n"
     ]
    }
   ],
   "source": [
    "op_help('Read')"
   ]
  },
  {
   "cell_type": "markdown",
   "metadata": {},
   "source": [
    "Let's create the first node of the Graph where:\n",
    "\n",
    "- the variable operator is the name of the SNAP Operator\n",
    "- the variable node_id is the name of the node being created\n",
    "- the variable source_node_id is the source node(s) - Read is the first node so there isn't any source node"
   ]
  },
  {
   "cell_type": "code",
   "execution_count": 9,
   "metadata": {},
   "outputs": [],
   "source": [
    "operator = 'Read'\n",
    "\n",
    "node_id = 'Read'\n",
    "\n",
    "source_node_id = ''"
   ]
  },
  {
   "cell_type": "code",
   "execution_count": 10,
   "metadata": {},
   "outputs": [],
   "source": [
    "parameters = get_operator_default_parameters(operator)"
   ]
  },
  {
   "cell_type": "code",
   "execution_count": 11,
   "metadata": {},
   "outputs": [
    {
     "data": {
      "text/plain": [
       "{'file': None, 'formatName': None}"
      ]
     },
     "execution_count": 11,
     "metadata": {},
     "output_type": "execute_result"
    }
   ],
   "source": [
    "parameters"
   ]
  },
  {
   "cell_type": "markdown",
   "metadata": {},
   "source": [
    "Replace the default value for the parameter file with the path to the Sentinel-1 product"
   ]
  },
  {
   "cell_type": "code",
   "execution_count": 12,
   "metadata": {},
   "outputs": [],
   "source": [
    "parameters['file'] = '/workspace/data/S1B_EW_GRDM_1SDH_20180822T114138_20180822T114238_012375_016D07_E770.zip'"
   ]
  },
  {
   "cell_type": "markdown",
   "metadata": {},
   "source": [
    "Add the Read node to the Graph:"
   ]
  },
  {
   "cell_type": "code",
   "execution_count": 13,
   "metadata": {},
   "outputs": [],
   "source": [
    "mygraph.add_node(node_id, operator, parameters, source_node_id)"
   ]
  },
  {
   "cell_type": "markdown",
   "metadata": {},
   "source": [
    "At this stage, the Graph looks like:"
   ]
  },
  {
   "cell_type": "code",
   "execution_count": 14,
   "metadata": {},
   "outputs": [
    {
     "name": "stdout",
     "output_type": "stream",
     "text": [
      "<graph>\n",
      "  <version>1.0</version>\n",
      "  <node id=\"Read\">\n",
      "    <operator>Read</operator>\n",
      "    <sources/>\n",
      "    <parameters class=\"com.bc.ceres.binding.dom.XppDomElement\">\n",
      "      <formatName/>\n",
      "      <file>/workspace/data/S1B_EW_GRDM_1SDH_20180822T114138_20180822T114238_012375_016D07_E770.zip</file>\n",
      "    </parameters>\n",
      "  </node>\n",
      "</graph>\n",
      "\n"
     ]
    }
   ],
   "source": [
    "mygraph.view_graph()"
   ]
  },
  {
   "cell_type": "markdown",
   "metadata": {},
   "source": [
    "**ThermalNoiseRemoval**\n",
    "\n",
    "Thermal noise correction can be applied to Sentinel-1 Level-1 SLC products as well as Level-1 GRD products which have not already been corrected. The operator can also remove this correction based on the product annotations (i.e. to re-introduce the noise signal that was removed). Product annotations will be updated accordingly to allow for re-application of the correction.\n",
    "\n",
    "Level-1 products provide a noise LUT for each measurement data set. The values in the de-noise LUT, provided in linear power, can be used to derive calibrated noise profiles matching the calibrated GRD data.   \n",
    "\n",
    "Bi-linear interpolation is used for any pixels that fall between points in the LUT.\n",
    "\n",
    "Now for the ThermalNoiseRemoval Operator we follow a similar process:"
   ]
  },
  {
   "cell_type": "code",
   "execution_count": 15,
   "metadata": {},
   "outputs": [
    {
     "name": "stdout",
     "output_type": "stream",
     "text": [
      "Operator name: org.esa.s1tbx.calibration.gpf.Sentinel1RemoveThermalNoiseOp\n",
      "Operator alias: ThermalNoiseRemoval\n",
      "\n",
      "Parameters:\n",
      "\n",
      "selectedPolarisations: The list of polarisations\n",
      "Default Value: None\n",
      "\n",
      "Possible values: []\n",
      "\n",
      "removeThermalNoise: Remove thermal noise\n",
      "Default Value: true\n",
      "\n",
      "Possible values: []\n",
      "\n",
      "reIntroduceThermalNoise: Re-introduce thermal noise\n",
      "Default Value: false\n",
      "\n",
      "Possible values: []\n",
      "\n"
     ]
    }
   ],
   "source": [
    "op_help('ThermalNoiseRemoval')"
   ]
  },
  {
   "cell_type": "code",
   "execution_count": 16,
   "metadata": {},
   "outputs": [],
   "source": [
    "operator = 'ThermalNoiseRemoval'\n",
    "\n",
    "node_id = 'ThermalNoiseRemoval' \n",
    "\n",
    "source_node_id = 'Read'\n",
    "\n",
    "parameters = get_operator_default_parameters(operator)\n",
    "\n",
    "mygraph.add_node(node_id, operator, parameters, source_node_id)"
   ]
  },
  {
   "cell_type": "markdown",
   "metadata": {},
   "source": [
    "**Apply-Orbit-File**\n",
    "\n",
    "The orbit state vectors provided in the metadata of a SAR product are generally not accurate and can be refined with the precise orbit files which are available days-to-weeks after the generation of the product.  The orbit file provides accurate satellite position and velocity information. Based on this information, the orbit state vectors in the abstract metadata of the product are updated.\n",
    "\n",
    "For Sentinel-1, Restituted orbit files and Precise orbit files may be applied. Precise orbits are produced a few weeks after acquisition. Orbit files are automatically download from Array's servers by SNAP. If an orbit file is not found, you may try looking for it in https://qc.sentinel1.eo.esa.int/  and placing the downloaded file into the auxdata folder."
   ]
  },
  {
   "cell_type": "code",
   "execution_count": 17,
   "metadata": {},
   "outputs": [
    {
     "data": {
      "text/plain": [
       "{'continueOnFail': 'false',\n",
       " 'orbitType': 'Sentinel Precise (Auto Download)',\n",
       " 'polyDegree': '3'}"
      ]
     },
     "execution_count": 17,
     "metadata": {},
     "output_type": "execute_result"
    }
   ],
   "source": [
    "operator = 'Apply-Orbit-File'\n",
    "\n",
    "node_id = 'Apply-Orbit-File' \n",
    "\n",
    "source_node_id = 'ThermalNoiseRemoval'\n",
    "\n",
    "parameters = get_operator_default_parameters(operator)\n",
    "\n",
    "parameters"
   ]
  },
  {
   "cell_type": "code",
   "execution_count": 18,
   "metadata": {},
   "outputs": [],
   "source": [
    "mygraph.add_node(node_id, operator, parameters, source_node_id)\n"
   ]
  },
  {
   "cell_type": "markdown",
   "metadata": {},
   "source": [
    "**Calibration**\n",
    "\n",
    "The objective of SAR calibration is to provide imagery in which the pixel values can be directly related to the radar backscatter of the scene. Though uncalibrated SAR imagery is sufficient for qualitative use, calibrated SAR images are essential to quantitative use of SAR data.\n",
    "\n",
    "Typical SAR data processing, which produces level 1 images, does not include radiometric corrections and significant radiometric bias remains. Therefore, it is necessary to apply the radiometric correction to SAR images so that the pixel values of the SAR images truly represent the radar backscatter of the reflecting surface. The radiometric correction is also necessary for the comparison of SAR images acquired with different sensors, or acquired from the same sensor but at different times, in different modes, or processed by different processors.\n",
    "\n",
    "This Operator performs different calibrations for ASAR, ERS, ALOS and Radarsat-2 products deriving the sigma nought images. Optionally gamma nought and beta nought images can also be created."
   ]
  },
  {
   "cell_type": "code",
   "execution_count": 19,
   "metadata": {},
   "outputs": [
    {
     "data": {
      "text/plain": [
       "{'auxFile': 'Latest Auxiliary File',\n",
       " 'createBetaBand': 'false',\n",
       " 'createGammaBand': 'false',\n",
       " 'externalAuxFile': None,\n",
       " 'outputBetaBand': 'false',\n",
       " 'outputGammaBand': 'false',\n",
       " 'outputImageInComplex': 'false',\n",
       " 'outputImageScaleInDb': 'false',\n",
       " 'outputSigmaBand': 'true',\n",
       " 'selectedPolarisations': None,\n",
       " 'sourceBandNames': None}"
      ]
     },
     "execution_count": 19,
     "metadata": {},
     "output_type": "execute_result"
    }
   ],
   "source": [
    "operator = 'Calibration'\n",
    "\n",
    "node_id = 'Calibration' \n",
    "\n",
    "source_node_id = 'Apply-Orbit-File'\n",
    "\n",
    "parameters = get_operator_default_parameters(operator)\n",
    "\n",
    "parameters"
   ]
  },
  {
   "cell_type": "code",
   "execution_count": 20,
   "metadata": {},
   "outputs": [],
   "source": [
    "mygraph.add_node(node_id, operator, parameters, source_node_id)\n"
   ]
  },
  {
   "cell_type": "markdown",
   "metadata": {},
   "source": [
    "**Speckle-Filter**\n",
    "\n",
    "SAR images have inherent salt and pepper like texturing called speckles which degrade the quality of the image and make interpretation of features more difficult. Speckles are caused by random constructive and destructive interference of the de-phased but coherent return waves scattered by the elementary scatters within each resolution cell. Speckle noise reduction can be applied either by spatial filtering or multilook processing."
   ]
  },
  {
   "cell_type": "code",
   "execution_count": 21,
   "metadata": {},
   "outputs": [
    {
     "data": {
      "text/plain": [
       "{'anSize': '50',\n",
       " 'dampingFactor': '2',\n",
       " 'enl': '1.0',\n",
       " 'estimateENL': 'false',\n",
       " 'filter': 'Lee Sigma',\n",
       " 'filterSizeX': '3',\n",
       " 'filterSizeY': '3',\n",
       " 'numLooksStr': '1',\n",
       " 'sigmaStr': '0.9',\n",
       " 'sourceBandNames': None,\n",
       " 'targetWindowSizeStr': '3x3',\n",
       " 'windowSize': '7x7'}"
      ]
     },
     "execution_count": 21,
     "metadata": {},
     "output_type": "execute_result"
    }
   ],
   "source": [
    "operator = 'Speckle-Filter'\n",
    "\n",
    "node_id = 'Speckle-Filter' \n",
    "\n",
    "source_node_id = 'Calibration'\n",
    "\n",
    "parameters = get_operator_default_parameters(operator)\n",
    "\n",
    "parameters"
   ]
  },
  {
   "cell_type": "code",
   "execution_count": 22,
   "metadata": {},
   "outputs": [],
   "source": [
    "mygraph.add_node(node_id, operator, parameters, source_node_id)\n"
   ]
  },
  {
   "cell_type": "markdown",
   "metadata": {},
   "source": [
    "**Multilook**\n",
    "\n",
    "Generally, a SAR original image appears speckled with inherent speckle noise. To reduce this inherent speckled appearance, several images are incoherently combined as if they corresponded to different looks of the same scene. This processing is generally known as multilook processing. As a result the multilooked image improves the image interpretability. Additionally, multilook processing can be used to produce an application product with nominal image pixel size.\n",
    "\n",
    "_Multilook Method_\n",
    "\n",
    "There are two ways to implement the multilook processing:\n",
    "\n",
    "- The multilooked images can be produced by space-domain averaging of a single look image, either with or without specific 2D kernels by convolution.\n",
    "- The multilook images can be produced by frequency-domain method using the sub-spectral band width.    This operator implements the space-domain multilook method by averaging a single look image with a small sliding window.\n",
    "\n",
    "_Selecting Range and Azimuth Looks_\n",
    "\n",
    "In selecting the number of range looks and the number of azimuth looks, user has two options:\n",
    "\n",
    "- GR square pixel: the user specifies the number of range looks while the number of azimuth looks is computed based on the ground range spacing and the azimuth spacing. The window size is then determined by the number of range looks and the number of azimuth looks. As a result, image with approximately square pixel spacing on the ground is produced.\n",
    "- Independent looks: the number of looks in range and azimuth can be selected independently. The window size is then determined by the number of range looks and the number of azimuth looks."
   ]
  },
  {
   "cell_type": "code",
   "execution_count": 23,
   "metadata": {},
   "outputs": [
    {
     "data": {
      "text/plain": [
       "{'grSquarePixel': 'true',\n",
       " 'nAzLooks': '1',\n",
       " 'nRgLooks': '1',\n",
       " 'outputIntensity': 'false',\n",
       " 'sourceBandNames': None}"
      ]
     },
     "execution_count": 23,
     "metadata": {},
     "output_type": "execute_result"
    }
   ],
   "source": [
    "operator = 'Multilook'\n",
    "\n",
    "node_id = 'Multilook' \n",
    "\n",
    "source_node_id = 'Speckle-Filter'\n",
    "\n",
    "parameters = get_operator_default_parameters(operator)\n",
    "\n",
    "parameters"
   ]
  },
  {
   "cell_type": "code",
   "execution_count": 24,
   "metadata": {},
   "outputs": [],
   "source": [
    "mygraph.add_node(node_id, operator, parameters, source_node_id)"
   ]
  },
  {
   "cell_type": "markdown",
   "metadata": {},
   "source": [
    "**LinearToFromdB**\n",
    "\n",
    "Converts bands to dB"
   ]
  },
  {
   "cell_type": "code",
   "execution_count": 25,
   "metadata": {},
   "outputs": [
    {
     "data": {
      "text/plain": [
       "{'sourceBandNames': None}"
      ]
     },
     "execution_count": 25,
     "metadata": {},
     "output_type": "execute_result"
    }
   ],
   "source": [
    "operator = 'LinearToFromdB'\n",
    "\n",
    "node_id = 'LinearToFromdB' \n",
    "\n",
    "source_node_id = 'Multilook'\n",
    "\n",
    "parameters = get_operator_default_parameters(operator)\n",
    "\n",
    "parameters"
   ]
  },
  {
   "cell_type": "code",
   "execution_count": 26,
   "metadata": {},
   "outputs": [],
   "source": [
    "mygraph.add_node(node_id, operator, parameters, source_node_id)"
   ]
  },
  {
   "cell_type": "markdown",
   "metadata": {},
   "source": [
    "**Terrain correction**\n"
   ]
  },
  {
   "cell_type": "code",
   "execution_count": 27,
   "metadata": {},
   "outputs": [
    {
     "data": {
      "text/plain": [
       "{'alignToStandardGrid': 'false',\n",
       " 'applyRadiometricNormalization': 'false',\n",
       " 'auxFile': 'Latest Auxiliary File',\n",
       " 'demName': 'ACE30',\n",
       " 'demResamplingMethod': 'BILINEAR_INTERPOLATION',\n",
       " 'externalAuxFile': None,\n",
       " 'externalDEMApplyEGM': 'true',\n",
       " 'externalDEMFile': None,\n",
       " 'externalDEMNoDataValue': '0',\n",
       " 'imgResamplingMethod': 'BILINEAR_INTERPOLATION',\n",
       " 'incidenceAngleForGamma0': 'Use projected local incidence angle from DEM',\n",
       " 'incidenceAngleForSigma0': 'Use projected local incidence angle from DEM',\n",
       " 'mapProjection': 'PROJCS[\"WGS 84 / Arctic Polar Stereographic\", \\n  GEOGCS[\"WGS 84\", \\n    DATUM[\"World Geodetic System 1984\", \\n      SPHEROID[\"WGS 84\", 6378137.0, 298.257223563, AUTHORITY[\"EPSG\",\"7030\"]], \\n      AUTHORITY[\"EPSG\",\"6326\"]], \\n    PRIMEM[\"Greenwich\", 0.0, AUTHORITY[\"EPSG\",\"8901\"]], \\n    UNIT[\"degree\", 0.017453292519943295], \\n    AXIS[\"Geodetic longitude\", EAST], \\n    AXIS[\"Geodetic latitude\", NORTH], \\n    AUTHORITY[\"EPSG\",\"4326\"]], \\n  PROJECTION[\"Polar Stereographic (variant B)\", AUTHORITY[\"EPSG\",\"9829\"]], \\n  PARAMETER[\"central_meridian\", 0.0], \\n  PARAMETER[\"Standard_Parallel_1\", 71.0], \\n  PARAMETER[\"false_easting\", 0.0], \\n  PARAMETER[\"false_northing\", 0.0], \\n  UNIT[\"m\", 1.0], \\n  AXIS[\"Easting\", \"South along 90 deg East\"], \\n  AXIS[\"Northing\", \"South along 180 deg\"], \\n  AUTHORITY[\"EPSG\",\"3995\"]]',\n",
       " 'nodataValueAtSea': 'false',\n",
       " 'outputComplex': 'false',\n",
       " 'pixelSpacingInDegree': '0',\n",
       " 'pixelSpacingInMeter': '0',\n",
       " 'saveBetaNought': 'false',\n",
       " 'saveDEM': 'true',\n",
       " 'saveGammaNought': 'false',\n",
       " 'saveIncidenceAngleFromEllipsoid': 'false',\n",
       " 'saveLatLon': 'false',\n",
       " 'saveLocalIncidenceAngle': 'false',\n",
       " 'saveProjectedLocalIncidenceAngle': 'false',\n",
       " 'saveSelectedSourceBand': 'true',\n",
       " 'saveSigmaNought': 'false',\n",
       " 'sourceBandNames': None,\n",
       " 'standardGridOriginX': '0',\n",
       " 'standardGridOriginY': '0'}"
      ]
     },
     "execution_count": 27,
     "metadata": {},
     "output_type": "execute_result"
    }
   ],
   "source": [
    "operator = 'Terrain-Correction'\n",
    "\n",
    "map_proj = \"\"\"PROJCS[\"WGS 84 / Arctic Polar Stereographic\", \n",
    "  GEOGCS[\"WGS 84\", \n",
    "    DATUM[\"World Geodetic System 1984\", \n",
    "      SPHEROID[\"WGS 84\", 6378137.0, 298.257223563, AUTHORITY[\"EPSG\",\"7030\"]], \n",
    "      AUTHORITY[\"EPSG\",\"6326\"]], \n",
    "    PRIMEM[\"Greenwich\", 0.0, AUTHORITY[\"EPSG\",\"8901\"]], \n",
    "    UNIT[\"degree\", 0.017453292519943295], \n",
    "    AXIS[\"Geodetic longitude\", EAST], \n",
    "    AXIS[\"Geodetic latitude\", NORTH], \n",
    "    AUTHORITY[\"EPSG\",\"4326\"]], \n",
    "  PROJECTION[\"Polar Stereographic (variant B)\", AUTHORITY[\"EPSG\",\"9829\"]], \n",
    "  PARAMETER[\"central_meridian\", 0.0], \n",
    "  PARAMETER[\"Standard_Parallel_1\", 71.0], \n",
    "  PARAMETER[\"false_easting\", 0.0], \n",
    "  PARAMETER[\"false_northing\", 0.0], \n",
    "  UNIT[\"m\", 1.0], \n",
    "  AXIS[\"Easting\", \"South along 90 deg East\"], \n",
    "  AXIS[\"Northing\", \"South along 180 deg\"], \n",
    "  AUTHORITY[\"EPSG\",\"3995\"]]\"\"\"\n",
    "\n",
    "node_id = 'Terrain-Correction' \n",
    "\n",
    "source_node_id = 'LinearToFromdB'\n",
    "\n",
    "parameters = get_operator_default_parameters(operator)\n",
    "\n",
    "parameters['demName'] = 'ACE30'  \n",
    "parameters['saveDEM'] = 'true'\n",
    "parameters['mapProjection'] = map_proj\n",
    "parameters['nodataValueAtSea'] = 'false'   \n",
    "                \n",
    "parameters"
   ]
  },
  {
   "cell_type": "code",
   "execution_count": 28,
   "metadata": {},
   "outputs": [],
   "source": [
    "mygraph.add_node(node_id, operator, parameters, source_node_id)"
   ]
  },
  {
   "cell_type": "markdown",
   "metadata": {},
   "source": [
    "**Subset**"
   ]
  },
  {
   "cell_type": "code",
   "execution_count": 29,
   "metadata": {},
   "outputs": [
    {
     "data": {
      "text/plain": [
       "{'bandNames': None,\n",
       " 'copyMetadata': 'false',\n",
       " 'fullSwath': 'false',\n",
       " 'geoRegion': 'POLYGON ((-35.2717796499525 83.2658579085283, -29.3687708669507 83.8704727024008, -35.334759858866 84.53393836008161, -41.2248291287458 83.8638684209569, -35.2717796499525 83.2658579085283))',\n",
       " 'region': None,\n",
       " 'subSamplingX': '1',\n",
       " 'subSamplingY': '1',\n",
       " 'tiePointGridNames': None}"
      ]
     },
     "execution_count": 29,
     "metadata": {},
     "output_type": "execute_result"
    }
   ],
   "source": [
    "operator = 'Subset'\n",
    "\n",
    "node_id = 'Subset' \n",
    "\n",
    "source_node_id = 'Terrain-Correction'\n",
    "\n",
    "parameters = get_operator_default_parameters(operator)\n",
    "\n",
    "parameters['geoRegion'] = 'POLYGON ((-35.2717796499525 83.2658579085283, -29.3687708669507 83.8704727024008, -35.334759858866 84.53393836008161, -41.2248291287458 83.8638684209569, -35.2717796499525 83.2658579085283))'\n",
    "\n",
    "parameters"
   ]
  },
  {
   "cell_type": "code",
   "execution_count": 30,
   "metadata": {},
   "outputs": [],
   "source": [
    "mygraph.add_node(node_id, operator, parameters, source_node_id)\n"
   ]
  },
  {
   "cell_type": "markdown",
   "metadata": {},
   "source": [
    "**Write**\n",
    "\n",
    "Add the Write node:"
   ]
  },
  {
   "cell_type": "code",
   "execution_count": 31,
   "metadata": {},
   "outputs": [
    {
     "name": "stdout",
     "output_type": "stream",
     "text": [
      "Operator name: org.esa.snap.core.gpf.common.WriteOp\n",
      "Operator alias: Write\n",
      "\n",
      "Parameters:\n",
      "\n",
      "file: The output file to which the data product is written.\n",
      "Default Value: None\n",
      "\n",
      "Possible values: []\n",
      "\n",
      "formatName: The name of the output file format.\n",
      "Default Value: BEAM-DIMAP\n",
      "\n",
      "Possible values: []\n",
      "\n",
      "deleteOutputOnFailure: If true, all output files are deleted after a failed write operation.\n",
      "Default Value: true\n",
      "\n",
      "Possible values: []\n",
      "\n",
      "writeEntireTileRows: If true, the write operation waits until an entire tile row is computed.\n",
      "Default Value: true\n",
      "\n",
      "Possible values: []\n",
      "\n",
      "clearCacheAfterRowWrite: If true, the internal tile cache is cleared after a tile row has been written. Ignored if writeEntireTileRows=false.\n",
      "Default Value: false\n",
      "\n",
      "Possible values: []\n",
      "\n"
     ]
    }
   ],
   "source": [
    "op_help('Write')"
   ]
  },
  {
   "cell_type": "code",
   "execution_count": 32,
   "metadata": {},
   "outputs": [
    {
     "name": "stdout",
     "output_type": "stream",
     "text": [
      "PolSARPro (.hdr)\n",
      "GDAL-RMF-WRITER (.rsw)\n",
      "GDAL-GS7BG-WRITER (.grd)\n",
      "GDAL-HFA-WRITER (.img)\n",
      "Snaphu (.hdr)\n",
      "NetCDF-BEAM (.nc)\n",
      "HDF5 (.h5)\n",
      "ENVI (.hdr)\n",
      "NetCDF4-BEAM (.nc)\n",
      "GDAL-KRO-WRITER (.kro)\n",
      "GDAL-PNM-WRITER (.pnm)\n",
      "GeoTIFF (.tif)\n",
      "GDAL-GTiff-WRITER (.tif)\n",
      "NetCDF-CF (.nc)\n",
      "GDAL-SGI-WRITER (.rgb)\n",
      "GeoTIFF+XML (.tif)\n",
      "GDAL-GSBG-WRITER (.grd)\n",
      "JP2 ()\n",
      "BEAM-DIMAP (.dim)\n",
      "GeoTIFF-BigTIFF (.tif)\n",
      "GDAL-ILWIS-WRITER (.mpr)\n",
      "GDAL-BMP-WRITER (.bmp)\n",
      "GDAL-BT-WRITER (.bt)\n",
      "CSV (.csv)\n",
      "JPEG2000 (.jp2)\n",
      "Gamma (.par)\n",
      "GDAL-MFF-WRITER (.hdr)\n",
      "NetCDF4-CF (.nc)\n",
      "GDAL-RST-WRITER (.rst)\n",
      "GDAL-GTX-WRITER (.gtx)\n",
      "GDAL-NITF-WRITER (.ntf)\n",
      "GDAL-PCIDSK-WRITER (.pix)\n",
      "GDAL-SAGA-WRITER (.sdat)\n",
      "Generic Binary BSQ (.bin)\n"
     ]
    }
   ],
   "source": [
    "get_write_formats()"
   ]
  },
  {
   "cell_type": "code",
   "execution_count": 33,
   "metadata": {},
   "outputs": [
    {
     "data": {
      "text/plain": [
       "{'clearCacheAfterRowWrite': 'false',\n",
       " 'deleteOutputOnFailure': 'true',\n",
       " 'file': None,\n",
       " 'formatName': 'BEAM-DIMAP',\n",
       " 'writeEntireTileRows': 'true'}"
      ]
     },
     "execution_count": 33,
     "metadata": {},
     "output_type": "execute_result"
    }
   ],
   "source": [
    "operator = 'Write'\n",
    "\n",
    "node_id = 'Write'\n",
    "\n",
    "source_node_id = 'Subset'\n",
    "\n",
    "parameters = get_operator_default_parameters(operator)\n",
    "\n",
    "parameters"
   ]
  },
  {
   "cell_type": "code",
   "execution_count": 34,
   "metadata": {},
   "outputs": [],
   "source": [
    "parameters['file'] = 'sigma0'\n",
    "parameters['formatName'] = 'GeoTIFF-BigTiff'"
   ]
  },
  {
   "cell_type": "code",
   "execution_count": 35,
   "metadata": {},
   "outputs": [],
   "source": [
    "mygraph.add_node(node_id, operator, parameters, source_node_id)"
   ]
  },
  {
   "cell_type": "markdown",
   "metadata": {},
   "source": [
    "View graph:"
   ]
  },
  {
   "cell_type": "code",
   "execution_count": 36,
   "metadata": {},
   "outputs": [
    {
     "name": "stdout",
     "output_type": "stream",
     "text": [
      "<graph>\n",
      "  <version>1.0</version>\n",
      "  <node id=\"Read\">\n",
      "    <operator>Read</operator>\n",
      "    <sources/>\n",
      "    <parameters class=\"com.bc.ceres.binding.dom.XppDomElement\">\n",
      "      <formatName/>\n",
      "      <file>/workspace/data/S1B_EW_GRDM_1SDH_20180822T114138_20180822T114238_012375_016D07_E770.zip</file>\n",
      "    </parameters>\n",
      "  </node>\n",
      "  <node id=\"ThermalNoiseRemoval\">\n",
      "    <operator>ThermalNoiseRemoval</operator>\n",
      "    <sources>\n",
      "      <sourceProduct refid=\"Read\"/>\n",
      "    </sources>\n",
      "    <parameters class=\"com.bc.ceres.binding.dom.XppDomElement\">\n",
      "      <reIntroduceThermalNoise>false</reIntroduceThermalNoise>\n",
      "      <selectedPolarisations/>\n",
      "      <removeThermalNoise>true</removeThermalNoise>\n",
      "    </parameters>\n",
      "  </node>\n",
      "  <node id=\"Apply-Orbit-File\">\n",
      "    <operator>Apply-Orbit-File</operator>\n",
      "    <sources>\n",
      "      <sourceProduct refid=\"ThermalNoiseRemoval\"/>\n",
      "    </sources>\n",
      "    <parameters class=\"com.bc.ceres.binding.dom.XppDomElement\">\n",
      "      <polyDegree>3</polyDegree>\n",
      "      <orbitType>Sentinel Precise (Auto Download)</orbitType>\n",
      "      <continueOnFail>false</continueOnFail>\n",
      "    </parameters>\n",
      "  </node>\n",
      "  <node id=\"Calibration\">\n",
      "    <operator>Calibration</operator>\n",
      "    <sources>\n",
      "      <sourceProduct refid=\"Apply-Orbit-File\"/>\n",
      "    </sources>\n",
      "    <parameters class=\"com.bc.ceres.binding.dom.XppDomElement\">\n",
      "      <outputImageInComplex>false</outputImageInComplex>\n",
      "      <createBetaBand>false</createBetaBand>\n",
      "      <sourceBandNames/>\n",
      "      <selectedPolarisations/>\n",
      "      <externalAuxFile/>\n",
      "      <outputBetaBand>false</outputBetaBand>\n",
      "      <outputSigmaBand>true</outputSigmaBand>\n",
      "      <auxFile>Latest Auxiliary File</auxFile>\n",
      "      <outputGammaBand>false</outputGammaBand>\n",
      "      <createGammaBand>false</createGammaBand>\n",
      "      <outputImageScaleInDb>false</outputImageScaleInDb>\n",
      "    </parameters>\n",
      "  </node>\n",
      "  <node id=\"Speckle-Filter\">\n",
      "    <operator>Speckle-Filter</operator>\n",
      "    <sources>\n",
      "      <sourceProduct refid=\"Calibration\"/>\n",
      "    </sources>\n",
      "    <parameters class=\"com.bc.ceres.binding.dom.XppDomElement\">\n",
      "      <estimateENL>false</estimateENL>\n",
      "      <sourceBandNames/>\n",
      "      <enl>1.0</enl>\n",
      "      <windowSize>7x7</windowSize>\n",
      "      <targetWindowSizeStr>3x3</targetWindowSizeStr>\n",
      "      <filter>Lee Sigma</filter>\n",
      "      <sigmaStr>0.9</sigmaStr>\n",
      "      <dampingFactor>2</dampingFactor>\n",
      "      <filterSizeX>3</filterSizeX>\n",
      "      <filterSizeY>3</filterSizeY>\n",
      "      <anSize>50</anSize>\n",
      "      <numLooksStr>1</numLooksStr>\n",
      "    </parameters>\n",
      "  </node>\n",
      "  <node id=\"Multilook\">\n",
      "    <operator>Multilook</operator>\n",
      "    <sources>\n",
      "      <sourceProduct refid=\"Speckle-Filter\"/>\n",
      "    </sources>\n",
      "    <parameters class=\"com.bc.ceres.binding.dom.XppDomElement\">\n",
      "      <sourceBandNames/>\n",
      "      <grSquarePixel>true</grSquarePixel>\n",
      "      <outputIntensity>false</outputIntensity>\n",
      "      <nRgLooks>1</nRgLooks>\n",
      "      <nAzLooks>1</nAzLooks>\n",
      "    </parameters>\n",
      "  </node>\n",
      "  <node id=\"LinearToFromdB\">\n",
      "    <operator>LinearToFromdB</operator>\n",
      "    <sources>\n",
      "      <sourceProduct refid=\"Multilook\"/>\n",
      "    </sources>\n",
      "    <parameters class=\"com.bc.ceres.binding.dom.XppDomElement\">\n",
      "      <sourceBandNames/>\n",
      "    </parameters>\n",
      "  </node>\n",
      "  <node id=\"Terrain-Correction\">\n",
      "    <operator>Terrain-Correction</operator>\n",
      "    <sources>\n",
      "      <sourceProduct refid=\"LinearToFromdB\"/>\n",
      "    </sources>\n",
      "    <parameters class=\"com.bc.ceres.binding.dom.XppDomElement\">\n",
      "      <applyRadiometricNormalization>false</applyRadiometricNormalization>\n",
      "      <saveSigmaNought>false</saveSigmaNought>\n",
      "      <externalDEMFile/>\n",
      "      <saveLocalIncidenceAngle>false</saveLocalIncidenceAngle>\n",
      "      <alignToStandardGrid>false</alignToStandardGrid>\n",
      "      <saveGammaNought>false</saveGammaNought>\n",
      "      <outputComplex>false</outputComplex>\n",
      "      <sourceBandNames/>\n",
      "      <saveIncidenceAngleFromEllipsoid>false</saveIncidenceAngleFromEllipsoid>\n",
      "      <saveProjectedLocalIncidenceAngle>false</saveProjectedLocalIncidenceAngle>\n",
      "      <externalDEMNoDataValue>0</externalDEMNoDataValue>\n",
      "      <mapProjection>PROJCS[\"WGS 84 / Arctic Polar Stereographic\", \n",
      "  GEOGCS[\"WGS 84\", \n",
      "    DATUM[\"World Geodetic System 1984\", \n",
      "      SPHEROID[\"WGS 84\", 6378137.0, 298.257223563, AUTHORITY[\"EPSG\",\"7030\"]], \n",
      "      AUTHORITY[\"EPSG\",\"6326\"]], \n",
      "    PRIMEM[\"Greenwich\", 0.0, AUTHORITY[\"EPSG\",\"8901\"]], \n",
      "    UNIT[\"degree\", 0.017453292519943295], \n",
      "    AXIS[\"Geodetic longitude\", EAST], \n",
      "    AXIS[\"Geodetic latitude\", NORTH], \n",
      "    AUTHORITY[\"EPSG\",\"4326\"]], \n",
      "  PROJECTION[\"Polar Stereographic (variant B)\", AUTHORITY[\"EPSG\",\"9829\"]], \n",
      "  PARAMETER[\"central_meridian\", 0.0], \n",
      "  PARAMETER[\"Standard_Parallel_1\", 71.0], \n",
      "  PARAMETER[\"false_easting\", 0.0], \n",
      "  PARAMETER[\"false_northing\", 0.0], \n",
      "  UNIT[\"m\", 1.0], \n",
      "  AXIS[\"Easting\", \"South along 90 deg East\"], \n",
      "  AXIS[\"Northing\", \"South along 180 deg\"], \n",
      "  AUTHORITY[\"EPSG\",\"3995\"]]</mapProjection>\n",
      "      <auxFile>Latest Auxiliary File</auxFile>\n",
      "      <saveDEM>true</saveDEM>\n",
      "      <pixelSpacingInDegree>0</pixelSpacingInDegree>\n",
      "      <incidenceAngleForSigma0>Use projected local incidence angle from DEM</incidenceAngleForSigma0>\n",
      "      <demResamplingMethod>BILINEAR_INTERPOLATION</demResamplingMethod>\n",
      "      <externalAuxFile/>\n",
      "      <saveLatLon>false</saveLatLon>\n",
      "      <saveSelectedSourceBand>true</saveSelectedSourceBand>\n",
      "      <nodataValueAtSea>false</nodataValueAtSea>\n",
      "      <demName>ACE30</demName>\n",
      "      <standardGridOriginX>0</standardGridOriginX>\n",
      "      <standardGridOriginY>0</standardGridOriginY>\n",
      "      <pixelSpacingInMeter>0</pixelSpacingInMeter>\n",
      "      <incidenceAngleForGamma0>Use projected local incidence angle from DEM</incidenceAngleForGamma0>\n",
      "      <externalDEMApplyEGM>true</externalDEMApplyEGM>\n",
      "      <saveBetaNought>false</saveBetaNought>\n",
      "      <imgResamplingMethod>BILINEAR_INTERPOLATION</imgResamplingMethod>\n",
      "    </parameters>\n",
      "  </node>\n",
      "  <node id=\"Subset\">\n",
      "    <operator>Subset</operator>\n",
      "    <sources>\n",
      "      <sourceProduct refid=\"Terrain-Correction\"/>\n",
      "    </sources>\n",
      "    <parameters class=\"com.bc.ceres.binding.dom.XppDomElement\">\n",
      "      <tiePointGridNames/>\n",
      "      <bandNames/>\n",
      "      <subSamplingY>1</subSamplingY>\n",
      "      <subSamplingX>1</subSamplingX>\n",
      "      <region/>\n",
      "      <copyMetadata>false</copyMetadata>\n",
      "      <fullSwath>false</fullSwath>\n",
      "      <geoRegion>POLYGON ((-35.2717796499525 83.2658579085283, -29.3687708669507 83.8704727024008, -35.334759858866 84.53393836008161, -41.2248291287458 83.8638684209569, -35.2717796499525 83.2658579085283))</geoRegion>\n",
      "    </parameters>\n",
      "  </node>\n",
      "  <node id=\"Write\">\n",
      "    <operator>Write</operator>\n",
      "    <sources>\n",
      "      <sourceProduct refid=\"Subset\"/>\n",
      "    </sources>\n",
      "    <parameters class=\"com.bc.ceres.binding.dom.XppDomElement\">\n",
      "      <deleteOutputOnFailure>true</deleteOutputOnFailure>\n",
      "      <clearCacheAfterRowWrite>false</clearCacheAfterRowWrite>\n",
      "      <formatName>GeoTIFF-BigTiff</formatName>\n",
      "      <writeEntireTileRows>true</writeEntireTileRows>\n",
      "      <file>sigma0</file>\n",
      "    </parameters>\n",
      "  </node>\n",
      "</graph>\n",
      "\n"
     ]
    }
   ],
   "source": [
    "mygraph.view_graph()"
   ]
  },
  {
   "cell_type": "markdown",
   "metadata": {},
   "source": [
    "Run the Graph with:\n",
    "\n",
    "```python\n",
    "mygraph.run()\n",
    "```"
   ]
  },
  {
   "cell_type": "markdown",
   "metadata": {},
   "source": [
    "### Example of linear SNAP graph\n",
    "\n",
    "If the SNAP Graph does not include fan-in/out, i.e. it is linear, there's an optional approach using py_snap_helpers.\n",
    "\n",
    "Below an example to pre-process Sentinel-3 SLSTR Level-1B data"
   ]
  },
  {
   "cell_type": "code",
   "execution_count": null,
   "metadata": {},
   "outputs": [],
   "source": [
    "def pre_processing(product_metadata, **kwargs):\n",
    "   \n",
    "    options = dict()\n",
    "    \n",
    "    if product_metadata['orbitDirection'] == 'DESCENDING':\n",
    "    \n",
    "        operators = ['Read', \n",
    "                     'Rad2Refl',\n",
    "                     'Resample',\n",
    "                     'Reproject',\n",
    "                     'Subset',\n",
    "                     'AddLandCover',\n",
    "                     'Write']\n",
    "    else:\n",
    "        \n",
    "        operators = ['Read', \n",
    "                     'Resample',\n",
    "                     'Reproject',\n",
    "                     'Subset',\n",
    "                     'AddLandCover',\n",
    "                     'Write']\n",
    "    \n",
    "    for operator in operators:\n",
    "            \n",
    "        print 'Getting default values for Operator {}'.format(operator)\n",
    "        parameters = get_operator_default_parameters(operator)\n",
    "        \n",
    "        options[operator] = parameters\n",
    "\n",
    "    for key, value in kwargs.items():\n",
    "        \n",
    "        print 'Updating Operator {}'.format(key)\n",
    "        options[key.replace('_', '-')].update(value)\n",
    "    \n",
    "    mygraph = GraphProcessor()\n",
    "    \n",
    "    for index, operator in enumerate(operators):\n",
    "    \n",
    "        print 'Adding Operator {} to graph'.format(operator)\n",
    "        if index == 0:            \n",
    "            source_node_id = ''\n",
    "        \n",
    "        else:\n",
    "            source_node_id = operators[index - 1]\n",
    "        \n",
    "        mygraph.add_node(operator,\n",
    "                         operator, \n",
    "                         options[operator], source_node_id)\n",
    "    \n",
    "    mygraph.run()\n"
   ]
  },
  {
   "cell_type": "markdown",
   "metadata": {},
   "source": [
    "Next, create one Python dictionary per operator:"
   ]
  },
  {
   "cell_type": "code",
   "execution_count": null,
   "metadata": {},
   "outputs": [],
   "source": [
    "read = dict()\n",
    "read['file'] =  local_path\n",
    "read['formatName'] = 'Sen3_SLSTRL1B_500m'\n",
    "\n",
    "if s3_metadata['orbitDirection'] == 'DESCENDING':\n",
    "\n",
    "    rad2refl = dict()\n",
    "    rad2refl['sensor'] = 'SLSTR_500m'\n",
    "    rad2refl['copyTiePointGrids'] = 'true'\n",
    "    rad2refl['copyFlagBandsAndMasks'] = 'true'\n",
    "    rad2refl['copyNonSpectralBands'] = 'true'\n",
    "\n",
    "resample = dict()\n",
    "resample['referenceBandName'] = 'F1_BT_in'\n",
    "\n",
    "reproject = dict()\n",
    "reproject['crs'] = 'EPSG:4326'\n",
    "\n",
    "subset = dict()\n",
    "subset['geoRegion'] = aoi_wkt['value']\n",
    "\n",
    "addlandcover = dict()\n",
    "addlandcover['landCoverNames'] = 'CCILandCover-2015'\n",
    "\n",
    "write = dict()\n",
    "write['file'] = 'temp'"
   ]
  },
  {
   "cell_type": "markdown",
   "metadata": {},
   "source": [
    "Finally, create and process the SNAP Graph with:"
   ]
  },
  {
   "cell_type": "code",
   "execution_count": null,
   "metadata": {},
   "outputs": [],
   "source": [
    "if s3_metadata['orbitDirection'] == 'DESCENDING':\n",
    "\n",
    "    pre_processing(product_metadata=s3_metadata, \n",
    "                   Read=read, \n",
    "                   Rad2Refl=rad2refl,\n",
    "                   Resample=resample,\n",
    "                   Reproject=reproject,\n",
    "                   Subset=subset,\n",
    "                   AddLandCover=addlandcover,\n",
    "                   Write=write)\n",
    "else:\n",
    "    \n",
    "    pre_processing(product_metadata=s3_metadata, \n",
    "                   Read=read, \n",
    "                   Resample=resample,\n",
    "                   Reproject=reproject,\n",
    "                   Subset=subset,\n",
    "                   AddLandCover=addlandcover,\n",
    "                   Write=write)"
   ]
  }
 ],
 "metadata": {
  "kernelspec": {
   "display_name": "Python 2",
   "language": "python",
   "name": "python2"
  },
  "language_info": {
   "codemirror_mode": {
    "name": "ipython",
    "version": 2
   },
   "file_extension": ".py",
   "mimetype": "text/x-python",
   "name": "python",
   "nbconvert_exporter": "python",
   "pygments_lexer": "ipython2",
   "version": "2.7.13"
  }
 },
 "nbformat": 4,
 "nbformat_minor": 2
}
